{
 "cells": [
  {
   "cell_type": "code",
   "execution_count": 1,
   "id": "3a2fd456-b610-4b7f-9aa7-f3c5bcda3c21",
   "metadata": {
    "tags": []
   },
   "outputs": [
    {
     "name": "stderr",
     "output_type": "stream",
     "text": [
      "/mnt/lustre/wufan/anaconda3/envs/minigpt4/lib/python3.9/site-packages/tqdm/auto.py:22: TqdmWarning: IProgress not found. Please update jupyter and ipywidgets. See https://ipywidgets.readthedocs.io/en/stable/user_install.html\n",
      "  from .autonotebook import tqdm as notebook_tqdm\n"
     ]
    },
    {
     "name": "stdout",
     "output_type": "stream",
     "text": [
      "\n",
      "===================================BUG REPORT===================================\n",
      "Welcome to bitsandbytes. For bug reports, please submit your error trace to: https://github.com/TimDettmers/bitsandbytes/issues\n",
      "================================================================================\n"
     ]
    }
   ],
   "source": [
    "import os\n",
    "import sys\n",
    "import torch\n",
    "\n",
    "from PIL import Image\n",
    "\n",
    "sys.path.append(\"../\")\n",
    "from vigc.models import load_model_and_preprocess"
   ]
  },
  {
   "cell_type": "code",
   "execution_count": 2,
   "id": "9a3ad0c4-21d6-4473-939d-cb7aab6b87b9",
   "metadata": {
    "tags": []
   },
   "outputs": [],
   "source": [
    "class DotDict(dict):\n",
    "    def __init__(self, *args, **kwargs):\n",
    "        super(DotDict, self).__init__(*args, **kwargs)\n",
    "\n",
    "    def __getattr__(self, key):\n",
    "        if key not in self.keys():\n",
    "            return None\n",
    "        value = self[key]\n",
    "        if isinstance(value, dict):\n",
    "            value = DotDict(value)\n",
    "        return value\n",
    "    \n",
    "    def __setattr__(self, key, value):\n",
    "        self[key] = value"
   ]
  },
  {
   "cell_type": "markdown",
   "id": "5356a5c9-8896-4f7f-8694-054cb872271a",
   "metadata": {},
   "source": [
    "## 1. load model"
   ]
  },
  {
   "cell_type": "code",
   "execution_count": 4,
   "id": "e2808b97-689a-4ebc-9011-87f992466a12",
   "metadata": {
    "tags": []
   },
   "outputs": [],
   "source": [
    "model_args = {\n",
    "    \"arch\": \"blip2_vicuna_instruct\",                     # model arch\n",
    "    \"model_type\": \"vicuna7b\",                            # model type\n",
    "\n",
    "    \"pretrained\": \"/mnt/petrelfs/hanxiao/input/instruct-blip/blip2_pretrained_flant5xxl.pth\",\n",
    "    \"finetuned\": \"/mnt/lustre/wufan/project/vigc/vigc/output/ckpt/vigc7b_stage2/add_detail_rep2/20230811214/checkpoint_2.pth\",\n",
    "}\n",
    "\n",
    "args = DotDict(model_args)\n",
    "\n",
    "device = torch.device(\"cuda:0\")"
   ]
  },
  {
   "cell_type": "code",
   "execution_count": 5,
   "id": "4f37a3f7-93e6-4d47-be1f-b41f5ecaf93f",
   "metadata": {
    "tags": []
   },
   "outputs": [
    {
     "name": "stderr",
     "output_type": "stream",
     "text": [
      "Loading checkpoint shards: 100%|███████████████████████████████████████████████████████████████████████████████████████████████████████████| 2/2 [00:20<00:00, 10.21s/it]\n"
     ]
    }
   ],
   "source": [
    "model, vis_processors, _ = load_model_and_preprocess(\n",
    "    name=args.arch,\n",
    "    model_type=args.model_type,\n",
    "    is_eval=True,\n",
    "    device=device,\n",
    ")\n",
    "\n",
    "_ = model.load_checkpoint(args.pretrained)\n",
    "_ = model.load_checkpoint(args.finetuned)"
   ]
  },
  {
   "cell_type": "markdown",
   "id": "e858bf9f-47c7-4d96-b750-9a97faeee4d7",
   "metadata": {},
   "source": [
    "## 2. chat demo"
   ]
  },
  {
   "cell_type": "code",
   "execution_count": 6,
   "id": "76e2fb02-dd7b-43a3-9e22-ab7e45418ac5",
   "metadata": {
    "tags": []
   },
   "outputs": [],
   "source": [
    "def chat_demo(model, img_path, prompt):\n",
    "    image = Image.open(img_path)\n",
    "    image = vis_processors[\"eval\"](image).unsqueeze(0).to(device)\n",
    "\n",
    "    samples = {\n",
    "        \"image\": image,\n",
    "        \"prompt\": prompt,\n",
    "    }\n",
    "\n",
    "    output = model.generate(\n",
    "        samples,\n",
    "        length_penalty=float(1),\n",
    "        repetition_penalty=float(1),\n",
    "        num_beams=5,\n",
    "        max_length=250,\n",
    "        min_length=1,\n",
    "        top_p=0.9,\n",
    "        use_nucleus_sampling=False,\n",
    "    )\n",
    "    return output[0]"
   ]
  },
  {
   "cell_type": "code",
   "execution_count": 7,
   "id": "337d54fe-bde4-49b8-b714-4b9274e11699",
   "metadata": {
    "tags": []
   },
   "outputs": [
    {
     "name": "stderr",
     "output_type": "stream",
     "text": [
      "/mnt/lustre/wufan/anaconda3/envs/minigpt4/lib/python3.9/site-packages/transformers/generation/utils.py:1219: UserWarning: You have modified the pretrained model configuration to control generation. This is a deprecated strategy to control generation and will be removed soon, in a future version. Please use a generation configuration file (see https://huggingface.co/docs/transformers/main_classes/text_generation)\n",
      "  warnings.warn(\n"
     ]
    },
    {
     "data": {
      "text/plain": [
       "'Question: What color is the motor scooter in the image? Answer: The motor scooter in the image is silver.'"
      ]
     },
     "execution_count": 7,
     "metadata": {},
     "output_type": "execute_result"
    }
   ],
   "source": [
    "chat_demo(model, \"demo_1.jpg\", \"Generate a question based on the content of the given image and then answer it.\")"
   ]
  },
  {
   "cell_type": "code",
   "execution_count": 8,
   "id": "36bdd55f-5d8d-4787-98a3-78241d24fab1",
   "metadata": {
    "tags": []
   },
   "outputs": [
    {
     "data": {
      "text/plain": [
       "'The image features a silver motor scooter or moped parked inside a garage, next to a brick wall. The motor scooter appears to be parked in a clean and well-maintained environment, with no visible dirt or debris around it. The silver color of the motor scooter adds a sleek and modern touch to the overall appearance of the image.'"
      ]
     },
     "execution_count": 8,
     "metadata": {},
     "output_type": "execute_result"
    }
   ],
   "source": [
    "chat_demo(model, \"demo_1.jpg\", \"Describe the image for me.\")"
   ]
  },
  {
   "cell_type": "code",
   "execution_count": 10,
   "id": "9ed87bd7-bce6-4d95-97b7-cb2a64eb9f91",
   "metadata": {
    "tags": []
   },
   "outputs": [
    {
     "data": {
      "text/plain": [
       "'There are two people in this image.'"
      ]
     },
     "execution_count": 10,
     "metadata": {},
     "output_type": "execute_result"
    }
   ],
   "source": [
    "chat_demo(model, \"demo_2.jpg\", \"How many people in this image?\")"
   ]
  },
  {
   "cell_type": "code",
   "execution_count": null,
   "id": "15f5118f-9b83-47e5-b1cc-8ce22fee548c",
   "metadata": {},
   "outputs": [],
   "source": []
  }
 ],
 "metadata": {
  "kernelspec": {
   "display_name": "Python 3 (ipykernel)",
   "language": "python",
   "name": "python3"
  },
  "language_info": {
   "codemirror_mode": {
    "name": "ipython",
    "version": 3
   },
   "file_extension": ".py",
   "mimetype": "text/x-python",
   "name": "python",
   "nbconvert_exporter": "python",
   "pygments_lexer": "ipython3",
   "version": "3.9.16"
  }
 },
 "nbformat": 4,
 "nbformat_minor": 5
}
