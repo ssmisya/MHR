{
 "cells": [
  {
   "cell_type": "code",
   "execution_count": 1,
   "metadata": {},
   "outputs": [],
   "source": [
    "import plotly\n",
    "import plotly.express as px\n",
    "import pandas as pd\n",
    "import plotly.graph_objects as go"
   ]
  },
  {
   "cell_type": "code",
   "execution_count": 7,
   "metadata": {},
   "outputs": [
    {
     "data": {
      "application/vnd.plotly.v1+json": {
       "config": {
        "plotlyServerURL": "https://plot.ly"
       },
       "data": [
        {
         "fill": "none",
         "line": {
          "color": "orange",
          "dash": "dot"
         },
         "mode": "lines+text",
         "name": "LLama-13B",
         "r": [
          0.7608695652173914,
          0.9514066496163683,
          0.8895027624309392,
          0.9282051282051282,
          0.5747126436781609,
          0.5031446540880503,
          0.5641025641025641,
          0.8072289156626506,
          0.8046153846153846,
          0.9185520361990951,
          0.7647058823529411,
          0.8187134502923976,
          0.9162011173184358,
          0.7608695652173914
         ],
         "text": [
          "86.0",
          "77.4",
          "87.5",
          "95.5",
          "55.0",
          "44.0",
          "44.0",
          "71.0",
          "61.3",
          "63.9",
          "58.5",
          "81.0",
          "82.0"
         ],
         "textposition": "middle left",
         "theta": [
          "Ambiguity",
          "Duration",
          "Frequency",
          "Causality",
          "Nli",
          "Ordering",
          "Relation",
          "Storytelling",
          "Ambiguity (Math)",
          "Arithmetic (Math)",
          "Duration (Math)",
          "Frequency (Math)",
          "Typical time",
          "Ambiguity"
         ],
         "type": "scatterpolar"
        },
        {
         "fill": "none",
         "line": {
          "color": "mediumpurple",
          "dash": "solid"
         },
         "mode": "lines+text",
         "name": "Timo-13B",
         "r": [
          1,
          1,
          1,
          1,
          1,
          1,
          1,
          1,
          1,
          1,
          1,
          1,
          1,
          1
         ],
         "text": [
          "92.0",
          "78.2",
          "90.5",
          "97.5",
          "87.0",
          "79.5",
          "78.0",
          "83.0",
          "65.0",
          "66.3",
          "76.5",
          "85.5",
          "89.5"
         ],
         "textposition": "middle left",
         "theta": [
          "Ambiguity",
          "Duration",
          "Frequency",
          "Causality",
          "Nli",
          "Ordering",
          "Relation",
          "Storytelling",
          "Ambiguity (Math)",
          "Arithmetic (Math)",
          "Duration (Math)",
          "Frequency (Math)",
          "Typical time",
          "Ambiguity"
         ],
         "type": "scatterpolar"
        }
       ],
       "layout": {
        "height": 620,
        "legend": {
         "bgcolor": "rgba(255, 255, 255, 0.6)",
         "bordercolor": "rgba(0, 0, 0, 0.2)",
         "borderwidth": 2,
         "font": {
          "color": "black",
          "size": 18
         },
         "itemsizing": "trace",
         "traceorder": "normal",
         "x": 0.8,
         "y": -0.15
        },
        "polar": {
         "angularaxis": {
          "tick0": "auto",
          "tickfont": {
           "size": 18
          }
         },
         "radialaxis": {
          "range": [
           0.4,
           1.05
          ],
          "visible": false
         }
        },
        "showlegend": true,
        "template": {
         "data": {
          "bar": [
           {
            "error_x": {
             "color": "#2a3f5f"
            },
            "error_y": {
             "color": "#2a3f5f"
            },
            "marker": {
             "line": {
              "color": "#E5ECF6",
              "width": 0.5
             },
             "pattern": {
              "fillmode": "overlay",
              "size": 10,
              "solidity": 0.2
             }
            },
            "type": "bar"
           }
          ],
          "barpolar": [
           {
            "marker": {
             "line": {
              "color": "#E5ECF6",
              "width": 0.5
             },
             "pattern": {
              "fillmode": "overlay",
              "size": 10,
              "solidity": 0.2
             }
            },
            "type": "barpolar"
           }
          ],
          "carpet": [
           {
            "aaxis": {
             "endlinecolor": "#2a3f5f",
             "gridcolor": "white",
             "linecolor": "white",
             "minorgridcolor": "white",
             "startlinecolor": "#2a3f5f"
            },
            "baxis": {
             "endlinecolor": "#2a3f5f",
             "gridcolor": "white",
             "linecolor": "white",
             "minorgridcolor": "white",
             "startlinecolor": "#2a3f5f"
            },
            "type": "carpet"
           }
          ],
          "choropleth": [
           {
            "colorbar": {
             "outlinewidth": 0,
             "ticks": ""
            },
            "type": "choropleth"
           }
          ],
          "contour": [
           {
            "colorbar": {
             "outlinewidth": 0,
             "ticks": ""
            },
            "colorscale": [
             [
              0,
              "#0d0887"
             ],
             [
              0.1111111111111111,
              "#46039f"
             ],
             [
              0.2222222222222222,
              "#7201a8"
             ],
             [
              0.3333333333333333,
              "#9c179e"
             ],
             [
              0.4444444444444444,
              "#bd3786"
             ],
             [
              0.5555555555555556,
              "#d8576b"
             ],
             [
              0.6666666666666666,
              "#ed7953"
             ],
             [
              0.7777777777777778,
              "#fb9f3a"
             ],
             [
              0.8888888888888888,
              "#fdca26"
             ],
             [
              1,
              "#f0f921"
             ]
            ],
            "type": "contour"
           }
          ],
          "contourcarpet": [
           {
            "colorbar": {
             "outlinewidth": 0,
             "ticks": ""
            },
            "type": "contourcarpet"
           }
          ],
          "heatmap": [
           {
            "colorbar": {
             "outlinewidth": 0,
             "ticks": ""
            },
            "colorscale": [
             [
              0,
              "#0d0887"
             ],
             [
              0.1111111111111111,
              "#46039f"
             ],
             [
              0.2222222222222222,
              "#7201a8"
             ],
             [
              0.3333333333333333,
              "#9c179e"
             ],
             [
              0.4444444444444444,
              "#bd3786"
             ],
             [
              0.5555555555555556,
              "#d8576b"
             ],
             [
              0.6666666666666666,
              "#ed7953"
             ],
             [
              0.7777777777777778,
              "#fb9f3a"
             ],
             [
              0.8888888888888888,
              "#fdca26"
             ],
             [
              1,
              "#f0f921"
             ]
            ],
            "type": "heatmap"
           }
          ],
          "heatmapgl": [
           {
            "colorbar": {
             "outlinewidth": 0,
             "ticks": ""
            },
            "colorscale": [
             [
              0,
              "#0d0887"
             ],
             [
              0.1111111111111111,
              "#46039f"
             ],
             [
              0.2222222222222222,
              "#7201a8"
             ],
             [
              0.3333333333333333,
              "#9c179e"
             ],
             [
              0.4444444444444444,
              "#bd3786"
             ],
             [
              0.5555555555555556,
              "#d8576b"
             ],
             [
              0.6666666666666666,
              "#ed7953"
             ],
             [
              0.7777777777777778,
              "#fb9f3a"
             ],
             [
              0.8888888888888888,
              "#fdca26"
             ],
             [
              1,
              "#f0f921"
             ]
            ],
            "type": "heatmapgl"
           }
          ],
          "histogram": [
           {
            "marker": {
             "pattern": {
              "fillmode": "overlay",
              "size": 10,
              "solidity": 0.2
             }
            },
            "type": "histogram"
           }
          ],
          "histogram2d": [
           {
            "colorbar": {
             "outlinewidth": 0,
             "ticks": ""
            },
            "colorscale": [
             [
              0,
              "#0d0887"
             ],
             [
              0.1111111111111111,
              "#46039f"
             ],
             [
              0.2222222222222222,
              "#7201a8"
             ],
             [
              0.3333333333333333,
              "#9c179e"
             ],
             [
              0.4444444444444444,
              "#bd3786"
             ],
             [
              0.5555555555555556,
              "#d8576b"
             ],
             [
              0.6666666666666666,
              "#ed7953"
             ],
             [
              0.7777777777777778,
              "#fb9f3a"
             ],
             [
              0.8888888888888888,
              "#fdca26"
             ],
             [
              1,
              "#f0f921"
             ]
            ],
            "type": "histogram2d"
           }
          ],
          "histogram2dcontour": [
           {
            "colorbar": {
             "outlinewidth": 0,
             "ticks": ""
            },
            "colorscale": [
             [
              0,
              "#0d0887"
             ],
             [
              0.1111111111111111,
              "#46039f"
             ],
             [
              0.2222222222222222,
              "#7201a8"
             ],
             [
              0.3333333333333333,
              "#9c179e"
             ],
             [
              0.4444444444444444,
              "#bd3786"
             ],
             [
              0.5555555555555556,
              "#d8576b"
             ],
             [
              0.6666666666666666,
              "#ed7953"
             ],
             [
              0.7777777777777778,
              "#fb9f3a"
             ],
             [
              0.8888888888888888,
              "#fdca26"
             ],
             [
              1,
              "#f0f921"
             ]
            ],
            "type": "histogram2dcontour"
           }
          ],
          "mesh3d": [
           {
            "colorbar": {
             "outlinewidth": 0,
             "ticks": ""
            },
            "type": "mesh3d"
           }
          ],
          "parcoords": [
           {
            "line": {
             "colorbar": {
              "outlinewidth": 0,
              "ticks": ""
             }
            },
            "type": "parcoords"
           }
          ],
          "pie": [
           {
            "automargin": true,
            "type": "pie"
           }
          ],
          "scatter": [
           {
            "fillpattern": {
             "fillmode": "overlay",
             "size": 10,
             "solidity": 0.2
            },
            "type": "scatter"
           }
          ],
          "scatter3d": [
           {
            "line": {
             "colorbar": {
              "outlinewidth": 0,
              "ticks": ""
             }
            },
            "marker": {
             "colorbar": {
              "outlinewidth": 0,
              "ticks": ""
             }
            },
            "type": "scatter3d"
           }
          ],
          "scattercarpet": [
           {
            "marker": {
             "colorbar": {
              "outlinewidth": 0,
              "ticks": ""
             }
            },
            "type": "scattercarpet"
           }
          ],
          "scattergeo": [
           {
            "marker": {
             "colorbar": {
              "outlinewidth": 0,
              "ticks": ""
             }
            },
            "type": "scattergeo"
           }
          ],
          "scattergl": [
           {
            "marker": {
             "colorbar": {
              "outlinewidth": 0,
              "ticks": ""
             }
            },
            "type": "scattergl"
           }
          ],
          "scattermapbox": [
           {
            "marker": {
             "colorbar": {
              "outlinewidth": 0,
              "ticks": ""
             }
            },
            "type": "scattermapbox"
           }
          ],
          "scatterpolar": [
           {
            "marker": {
             "colorbar": {
              "outlinewidth": 0,
              "ticks": ""
             }
            },
            "type": "scatterpolar"
           }
          ],
          "scatterpolargl": [
           {
            "marker": {
             "colorbar": {
              "outlinewidth": 0,
              "ticks": ""
             }
            },
            "type": "scatterpolargl"
           }
          ],
          "scatterternary": [
           {
            "marker": {
             "colorbar": {
              "outlinewidth": 0,
              "ticks": ""
             }
            },
            "type": "scatterternary"
           }
          ],
          "surface": [
           {
            "colorbar": {
             "outlinewidth": 0,
             "ticks": ""
            },
            "colorscale": [
             [
              0,
              "#0d0887"
             ],
             [
              0.1111111111111111,
              "#46039f"
             ],
             [
              0.2222222222222222,
              "#7201a8"
             ],
             [
              0.3333333333333333,
              "#9c179e"
             ],
             [
              0.4444444444444444,
              "#bd3786"
             ],
             [
              0.5555555555555556,
              "#d8576b"
             ],
             [
              0.6666666666666666,
              "#ed7953"
             ],
             [
              0.7777777777777778,
              "#fb9f3a"
             ],
             [
              0.8888888888888888,
              "#fdca26"
             ],
             [
              1,
              "#f0f921"
             ]
            ],
            "type": "surface"
           }
          ],
          "table": [
           {
            "cells": {
             "fill": {
              "color": "#EBF0F8"
             },
             "line": {
              "color": "white"
             }
            },
            "header": {
             "fill": {
              "color": "#C8D4E3"
             },
             "line": {
              "color": "white"
             }
            },
            "type": "table"
           }
          ]
         },
         "layout": {
          "annotationdefaults": {
           "arrowcolor": "#2a3f5f",
           "arrowhead": 0,
           "arrowwidth": 1
          },
          "autotypenumbers": "strict",
          "coloraxis": {
           "colorbar": {
            "outlinewidth": 0,
            "ticks": ""
           }
          },
          "colorscale": {
           "diverging": [
            [
             0,
             "#8e0152"
            ],
            [
             0.1,
             "#c51b7d"
            ],
            [
             0.2,
             "#de77ae"
            ],
            [
             0.3,
             "#f1b6da"
            ],
            [
             0.4,
             "#fde0ef"
            ],
            [
             0.5,
             "#f7f7f7"
            ],
            [
             0.6,
             "#e6f5d0"
            ],
            [
             0.7,
             "#b8e186"
            ],
            [
             0.8,
             "#7fbc41"
            ],
            [
             0.9,
             "#4d9221"
            ],
            [
             1,
             "#276419"
            ]
           ],
           "sequential": [
            [
             0,
             "#0d0887"
            ],
            [
             0.1111111111111111,
             "#46039f"
            ],
            [
             0.2222222222222222,
             "#7201a8"
            ],
            [
             0.3333333333333333,
             "#9c179e"
            ],
            [
             0.4444444444444444,
             "#bd3786"
            ],
            [
             0.5555555555555556,
             "#d8576b"
            ],
            [
             0.6666666666666666,
             "#ed7953"
            ],
            [
             0.7777777777777778,
             "#fb9f3a"
            ],
            [
             0.8888888888888888,
             "#fdca26"
            ],
            [
             1,
             "#f0f921"
            ]
           ],
           "sequentialminus": [
            [
             0,
             "#0d0887"
            ],
            [
             0.1111111111111111,
             "#46039f"
            ],
            [
             0.2222222222222222,
             "#7201a8"
            ],
            [
             0.3333333333333333,
             "#9c179e"
            ],
            [
             0.4444444444444444,
             "#bd3786"
            ],
            [
             0.5555555555555556,
             "#d8576b"
            ],
            [
             0.6666666666666666,
             "#ed7953"
            ],
            [
             0.7777777777777778,
             "#fb9f3a"
            ],
            [
             0.8888888888888888,
             "#fdca26"
            ],
            [
             1,
             "#f0f921"
            ]
           ]
          },
          "colorway": [
           "#636efa",
           "#EF553B",
           "#00cc96",
           "#ab63fa",
           "#FFA15A",
           "#19d3f3",
           "#FF6692",
           "#B6E880",
           "#FF97FF",
           "#FECB52"
          ],
          "font": {
           "color": "#2a3f5f"
          },
          "geo": {
           "bgcolor": "white",
           "lakecolor": "white",
           "landcolor": "#E5ECF6",
           "showlakes": true,
           "showland": true,
           "subunitcolor": "white"
          },
          "hoverlabel": {
           "align": "left"
          },
          "hovermode": "closest",
          "mapbox": {
           "style": "light"
          },
          "paper_bgcolor": "white",
          "plot_bgcolor": "#E5ECF6",
          "polar": {
           "angularaxis": {
            "gridcolor": "white",
            "linecolor": "white",
            "ticks": ""
           },
           "bgcolor": "#E5ECF6",
           "radialaxis": {
            "gridcolor": "white",
            "linecolor": "white",
            "ticks": ""
           }
          },
          "scene": {
           "xaxis": {
            "backgroundcolor": "#E5ECF6",
            "gridcolor": "white",
            "gridwidth": 2,
            "linecolor": "white",
            "showbackground": true,
            "ticks": "",
            "zerolinecolor": "white"
           },
           "yaxis": {
            "backgroundcolor": "#E5ECF6",
            "gridcolor": "white",
            "gridwidth": 2,
            "linecolor": "white",
            "showbackground": true,
            "ticks": "",
            "zerolinecolor": "white"
           },
           "zaxis": {
            "backgroundcolor": "#E5ECF6",
            "gridcolor": "white",
            "gridwidth": 2,
            "linecolor": "white",
            "showbackground": true,
            "ticks": "",
            "zerolinecolor": "white"
           }
          },
          "shapedefaults": {
           "line": {
            "color": "#2a3f5f"
           }
          },
          "ternary": {
           "aaxis": {
            "gridcolor": "white",
            "linecolor": "white",
            "ticks": ""
           },
           "baxis": {
            "gridcolor": "white",
            "linecolor": "white",
            "ticks": ""
           },
           "bgcolor": "#E5ECF6",
           "caxis": {
            "gridcolor": "white",
            "linecolor": "white",
            "ticks": ""
           }
          },
          "title": {
           "x": 0.05
          },
          "xaxis": {
           "automargin": true,
           "gridcolor": "white",
           "linecolor": "white",
           "ticks": "",
           "title": {
            "standoff": 15
           },
           "zerolinecolor": "white",
           "zerolinewidth": 2
          },
          "yaxis": {
           "automargin": true,
           "gridcolor": "white",
           "linecolor": "white",
           "ticks": "",
           "title": {
            "standoff": 15
           },
           "zerolinecolor": "white",
           "zerolinewidth": 2
          }
         }
        },
        "width": 760
       }
      }
     },
     "metadata": {},
     "output_type": "display_data"
    }
   ],
   "source": [
    "import plotly.graph_objects as go\n",
    "\n",
    "math_tasks_categories = ['Ambiguity', 'Duration', 'Frequency', 'Causality', 'Nli', 'Ordering', 'Relation', 'Storytelling', 'Ambiguity (Math)', 'Arithmetic (Math)', 'Duration (Math)', 'Frequency (Math)', 'Typical time']\n",
    "\n",
    "llama_data = [70.0, 74.4, 80.5, 90.5, 50.0, 40.0, 44.0, 67.0, 52.3, 60.9, 58.5, 70.0, 82.0]\n",
    "llama_data_text = [86.0, 77.4, 87.5, 95.5, 55.0, 44.0, 44.0, 71.0, 61.3, 63.9, 58.5, 81.0, 82.0]\n",
    "mathllama_data = [80.0, 62.4, 70.5, 97.5, 56.0, 45.0, 52.0, 75.0, 60.3, 69.0, 72.0, 80.5, 74.0]\n",
    "mathllama_data_text = [88.0, 74.4, 84.5, 97.5, 56.0, 45.0, 52.0, 75.0, 64.3, 69.0, 72.0, 84.5, 78.0]\n",
    "timo_data = [92.0, 78.2, 90.5, 97.5, 87.0, 79.5, 78.0, 83.0, 65.0, 66.3, 76.5, 85.5, 89.5]\n",
    "timo_data_text = [92.0, 78.2, 90.5, 97.5, 87.0, 79.5, 78.0, 83.0, 65.0, 66.3, 76.5, 85.5, 89.5]\n",
    "\n",
    "fig = go.Figure()\n",
    "\n",
    "fig.add_trace(go.Scatterpolar(\n",
    "      mode='lines+text',\n",
    "      r=[i/j for i,j in zip(llama_data + [llama_data[0]], timo_data + [timo_data[0]])],\n",
    "      theta= math_tasks_categories + [math_tasks_categories[0]],\n",
    "      fill= 'none',\n",
    "      name= 'LLama-13B',\n",
    "      line=dict(color='orange', dash='dot'),\n",
    "      text=llama_data_text,\n",
    "      textposition='middle left',\n",
    "))\n",
    "\n",
    "# fig.add_trace(go.Scatterpolar(\n",
    "#       mode='lines+text',\n",
    "#       r=[i/j for i,j in zip(mathllama_data + [mathllama_data[0]], timo_data + [timo_data[0]])],\n",
    "#       theta= math_tasks_categories + [math_tasks_categories[0]],\n",
    "#       fill= 'none',\n",
    "#       name= 'MathLLama-13B',\n",
    "#       line=dict(color='skyblue', dash='dot'),\n",
    "#       text=mathllama_data_text,\n",
    "#       textposition='middle left',\n",
    "# ))\n",
    "\n",
    "fig.add_trace(go.Scatterpolar(\n",
    "      mode='lines+text',\n",
    "      r=[i/j for i,j in zip(timo_data + [timo_data[0]], timo_data + [timo_data[0]])],\n",
    "      theta= math_tasks_categories + [math_tasks_categories[0]],\n",
    "      fill= 'none',\n",
    "      name= 'Timo-13B',\n",
    "      line=dict(color='mediumpurple', dash='solid'),\n",
    "      text=timo_data_text,\n",
    "      textposition='middle left',\n",
    "))\n",
    "\n",
    "fig.update_layout(\n",
    "    polar=dict(\n",
    "        radialaxis=dict(\n",
    "            visible=False,\n",
    "            range=[0.4, 1.05]\n",
    "        ),\n",
    "        angularaxis=dict(\n",
    "            tick0='auto',\n",
    "            tickfont=dict(size=18)  # 设置分类标签的字体大小\n",
    "        )\n",
    "    ),\n",
    "    showlegend=True,\n",
    "    legend=dict(\n",
    "        x=0.8,  # 调整图例的水平位置\n",
    "        y=-0.15,  # 调整图例的垂直位置\n",
    "        bgcolor='rgba(255, 255, 255, 0.6)',  # 设置图例的背景颜色及透明度\n",
    "        bordercolor='rgba(0, 0, 0, 0.2)',  # 设置图例的边框颜色及透明度\n",
    "        borderwidth=2,  # 设置图例的边框宽度\n",
    "        traceorder=\"normal\",  # 控制图例中图例项的顺序\n",
    "        font=dict(  # 设置图例文字的属性\n",
    "            # family=\"Times New Roman\",  # 设置字体\n",
    "            size=18,  # 设置文字大小\n",
    "            color=\"black\"  # 设置文字颜色\n",
    "        ),\n",
    "        itemsizing='trace'  # 设置图例项的大小为常量\n",
    "    ),\n",
    "    height=620,  # 设置画布高度\n",
    "    width=760  # 设置画布宽度\n",
    ")\n",
    "\n",
    "\n",
    "fig.show()\n"
   ]
  },
  {
   "cell_type": "code",
   "execution_count": 9,
   "metadata": {},
   "outputs": [],
   "source": [
    "fig.write_image(\"llama&mathllama&timo.pdf\")"
   ]
  },
  {
   "cell_type": "code",
   "execution_count": 13,
   "metadata": {},
   "outputs": [
    {
     "data": {
      "application/vnd.plotly.v1+json": {
       "config": {
        "plotlyServerURL": "https://plot.ly"
       },
       "data": [
        {
         "fill": "none",
         "line": {
          "color": "orange",
          "dash": "dot"
         },
         "mode": "lines+text",
         "name": "LLaMA",
         "r": [
          0.8601694915254237,
          0.75234521575985,
          0.5810276679841897,
          0.6694078947368421,
          0.7949526813880126,
          0.662269129287599,
          0.8007662835249043,
          0.8601694915254237
         ],
         "text": [
          "46.6",
          "49.1",
          "14.7",
          "58.7",
          "25.2",
          "74.2",
          "70.7"
         ],
         "textposition": "middle left",
         "theta": [
          "MMLU",
          "ARC",
          "GSM8K",
          "HellaSwag",
          "TruthfulQA",
          "WinoGranade",
          "Temporal",
          "MMLU"
         ],
         "type": "scatterpolar"
        },
        {
         "fill": "none",
         "line": {
          "color": "skyblue",
          "dash": "dot"
         },
         "mode": "lines+text",
         "name": "MathLLaMA",
         "r": [
          0.6186440677966101,
          0.8874296435272045,
          0.9288537549407114,
          0.7615131578947368,
          0.8990536277602524,
          0.7031662269129287,
          0.8799489144316731,
          0.6186440677966101
         ],
         "text": [
          "46.2",
          "50.3",
          "24.5",
          "59.3",
          "28.5",
          "74.3",
          "72.9"
         ],
         "textposition": "middle left",
         "theta": [
          "MMLU",
          "ARC",
          "GSM8K",
          "HellaSwag",
          "TruthfulQA",
          "WinoGranade",
          "Temporal",
          "MMLU"
         ],
         "type": "scatterpolar"
        },
        {
         "fill": "none",
         "line": {
          "color": "limegreen",
          "dash": "dot"
         },
         "mode": "lines+text",
         "name": "Timo-SFT",
         "r": [
          0.6927966101694916,
          0.7954971857410882,
          0.849802371541502,
          0.8634868421052632,
          0.8990536277602524,
          0.662269129287599,
          0.7650063856960408,
          0.6927966101694916
         ],
         "text": [
          "46.3",
          "49.4",
          "21.5",
          "59.5",
          "28.5",
          "74.2",
          "69.9"
         ],
         "textposition": "middle left",
         "theta": [
          "MMLU",
          "ARC",
          "GSM8K",
          "HellaSwag",
          "TruthfulQA",
          "WinoGranade",
          "Temporal",
          "MMLU"
         ],
         "type": "scatterpolar"
        },
        {
         "fill": "none",
         "line": {
          "color": "mediumpurple",
          "dash": "solid"
         },
         "mode": "lines+text",
         "name": "Timo",
         "r": [
          1,
          1,
          1,
          1,
          1,
          1,
          1,
          1
         ],
         "text": [
          "47.2",
          "53.3",
          "25.3",
          "60.8",
          "31.7",
          "75.8",
          "78.3"
         ],
         "textposition": "middle left",
         "theta": [
          "MMLU",
          "ARC",
          "GSM8K",
          "HellaSwag",
          "TruthfulQA",
          "WinoGranade",
          "Temporal",
          "MMLU"
         ],
         "type": "scatterpolar"
        }
       ],
       "layout": {
        "height": 620,
        "legend": {
         "bgcolor": "rgba(255, 255, 255, 0.6)",
         "bordercolor": "rgba(0, 0, 0, 0.2)",
         "borderwidth": 2,
         "font": {
          "color": "black",
          "size": 18
         },
         "itemsizing": "trace",
         "traceorder": "normal",
         "x": 0.88,
         "y": -0.1
        },
        "polar": {
         "angularaxis": {
          "tick0": "auto",
          "tickfont": {
           "size": 18
          }
         },
         "radialaxis": {
          "range": [
           0.4,
           1.05
          ],
          "visible": false
         }
        },
        "showlegend": true,
        "template": {
         "data": {
          "bar": [
           {
            "error_x": {
             "color": "#2a3f5f"
            },
            "error_y": {
             "color": "#2a3f5f"
            },
            "marker": {
             "line": {
              "color": "#E5ECF6",
              "width": 0.5
             },
             "pattern": {
              "fillmode": "overlay",
              "size": 10,
              "solidity": 0.2
             }
            },
            "type": "bar"
           }
          ],
          "barpolar": [
           {
            "marker": {
             "line": {
              "color": "#E5ECF6",
              "width": 0.5
             },
             "pattern": {
              "fillmode": "overlay",
              "size": 10,
              "solidity": 0.2
             }
            },
            "type": "barpolar"
           }
          ],
          "carpet": [
           {
            "aaxis": {
             "endlinecolor": "#2a3f5f",
             "gridcolor": "white",
             "linecolor": "white",
             "minorgridcolor": "white",
             "startlinecolor": "#2a3f5f"
            },
            "baxis": {
             "endlinecolor": "#2a3f5f",
             "gridcolor": "white",
             "linecolor": "white",
             "minorgridcolor": "white",
             "startlinecolor": "#2a3f5f"
            },
            "type": "carpet"
           }
          ],
          "choropleth": [
           {
            "colorbar": {
             "outlinewidth": 0,
             "ticks": ""
            },
            "type": "choropleth"
           }
          ],
          "contour": [
           {
            "colorbar": {
             "outlinewidth": 0,
             "ticks": ""
            },
            "colorscale": [
             [
              0,
              "#0d0887"
             ],
             [
              0.1111111111111111,
              "#46039f"
             ],
             [
              0.2222222222222222,
              "#7201a8"
             ],
             [
              0.3333333333333333,
              "#9c179e"
             ],
             [
              0.4444444444444444,
              "#bd3786"
             ],
             [
              0.5555555555555556,
              "#d8576b"
             ],
             [
              0.6666666666666666,
              "#ed7953"
             ],
             [
              0.7777777777777778,
              "#fb9f3a"
             ],
             [
              0.8888888888888888,
              "#fdca26"
             ],
             [
              1,
              "#f0f921"
             ]
            ],
            "type": "contour"
           }
          ],
          "contourcarpet": [
           {
            "colorbar": {
             "outlinewidth": 0,
             "ticks": ""
            },
            "type": "contourcarpet"
           }
          ],
          "heatmap": [
           {
            "colorbar": {
             "outlinewidth": 0,
             "ticks": ""
            },
            "colorscale": [
             [
              0,
              "#0d0887"
             ],
             [
              0.1111111111111111,
              "#46039f"
             ],
             [
              0.2222222222222222,
              "#7201a8"
             ],
             [
              0.3333333333333333,
              "#9c179e"
             ],
             [
              0.4444444444444444,
              "#bd3786"
             ],
             [
              0.5555555555555556,
              "#d8576b"
             ],
             [
              0.6666666666666666,
              "#ed7953"
             ],
             [
              0.7777777777777778,
              "#fb9f3a"
             ],
             [
              0.8888888888888888,
              "#fdca26"
             ],
             [
              1,
              "#f0f921"
             ]
            ],
            "type": "heatmap"
           }
          ],
          "heatmapgl": [
           {
            "colorbar": {
             "outlinewidth": 0,
             "ticks": ""
            },
            "colorscale": [
             [
              0,
              "#0d0887"
             ],
             [
              0.1111111111111111,
              "#46039f"
             ],
             [
              0.2222222222222222,
              "#7201a8"
             ],
             [
              0.3333333333333333,
              "#9c179e"
             ],
             [
              0.4444444444444444,
              "#bd3786"
             ],
             [
              0.5555555555555556,
              "#d8576b"
             ],
             [
              0.6666666666666666,
              "#ed7953"
             ],
             [
              0.7777777777777778,
              "#fb9f3a"
             ],
             [
              0.8888888888888888,
              "#fdca26"
             ],
             [
              1,
              "#f0f921"
             ]
            ],
            "type": "heatmapgl"
           }
          ],
          "histogram": [
           {
            "marker": {
             "pattern": {
              "fillmode": "overlay",
              "size": 10,
              "solidity": 0.2
             }
            },
            "type": "histogram"
           }
          ],
          "histogram2d": [
           {
            "colorbar": {
             "outlinewidth": 0,
             "ticks": ""
            },
            "colorscale": [
             [
              0,
              "#0d0887"
             ],
             [
              0.1111111111111111,
              "#46039f"
             ],
             [
              0.2222222222222222,
              "#7201a8"
             ],
             [
              0.3333333333333333,
              "#9c179e"
             ],
             [
              0.4444444444444444,
              "#bd3786"
             ],
             [
              0.5555555555555556,
              "#d8576b"
             ],
             [
              0.6666666666666666,
              "#ed7953"
             ],
             [
              0.7777777777777778,
              "#fb9f3a"
             ],
             [
              0.8888888888888888,
              "#fdca26"
             ],
             [
              1,
              "#f0f921"
             ]
            ],
            "type": "histogram2d"
           }
          ],
          "histogram2dcontour": [
           {
            "colorbar": {
             "outlinewidth": 0,
             "ticks": ""
            },
            "colorscale": [
             [
              0,
              "#0d0887"
             ],
             [
              0.1111111111111111,
              "#46039f"
             ],
             [
              0.2222222222222222,
              "#7201a8"
             ],
             [
              0.3333333333333333,
              "#9c179e"
             ],
             [
              0.4444444444444444,
              "#bd3786"
             ],
             [
              0.5555555555555556,
              "#d8576b"
             ],
             [
              0.6666666666666666,
              "#ed7953"
             ],
             [
              0.7777777777777778,
              "#fb9f3a"
             ],
             [
              0.8888888888888888,
              "#fdca26"
             ],
             [
              1,
              "#f0f921"
             ]
            ],
            "type": "histogram2dcontour"
           }
          ],
          "mesh3d": [
           {
            "colorbar": {
             "outlinewidth": 0,
             "ticks": ""
            },
            "type": "mesh3d"
           }
          ],
          "parcoords": [
           {
            "line": {
             "colorbar": {
              "outlinewidth": 0,
              "ticks": ""
             }
            },
            "type": "parcoords"
           }
          ],
          "pie": [
           {
            "automargin": true,
            "type": "pie"
           }
          ],
          "scatter": [
           {
            "fillpattern": {
             "fillmode": "overlay",
             "size": 10,
             "solidity": 0.2
            },
            "type": "scatter"
           }
          ],
          "scatter3d": [
           {
            "line": {
             "colorbar": {
              "outlinewidth": 0,
              "ticks": ""
             }
            },
            "marker": {
             "colorbar": {
              "outlinewidth": 0,
              "ticks": ""
             }
            },
            "type": "scatter3d"
           }
          ],
          "scattercarpet": [
           {
            "marker": {
             "colorbar": {
              "outlinewidth": 0,
              "ticks": ""
             }
            },
            "type": "scattercarpet"
           }
          ],
          "scattergeo": [
           {
            "marker": {
             "colorbar": {
              "outlinewidth": 0,
              "ticks": ""
             }
            },
            "type": "scattergeo"
           }
          ],
          "scattergl": [
           {
            "marker": {
             "colorbar": {
              "outlinewidth": 0,
              "ticks": ""
             }
            },
            "type": "scattergl"
           }
          ],
          "scattermapbox": [
           {
            "marker": {
             "colorbar": {
              "outlinewidth": 0,
              "ticks": ""
             }
            },
            "type": "scattermapbox"
           }
          ],
          "scatterpolar": [
           {
            "marker": {
             "colorbar": {
              "outlinewidth": 0,
              "ticks": ""
             }
            },
            "type": "scatterpolar"
           }
          ],
          "scatterpolargl": [
           {
            "marker": {
             "colorbar": {
              "outlinewidth": 0,
              "ticks": ""
             }
            },
            "type": "scatterpolargl"
           }
          ],
          "scatterternary": [
           {
            "marker": {
             "colorbar": {
              "outlinewidth": 0,
              "ticks": ""
             }
            },
            "type": "scatterternary"
           }
          ],
          "surface": [
           {
            "colorbar": {
             "outlinewidth": 0,
             "ticks": ""
            },
            "colorscale": [
             [
              0,
              "#0d0887"
             ],
             [
              0.1111111111111111,
              "#46039f"
             ],
             [
              0.2222222222222222,
              "#7201a8"
             ],
             [
              0.3333333333333333,
              "#9c179e"
             ],
             [
              0.4444444444444444,
              "#bd3786"
             ],
             [
              0.5555555555555556,
              "#d8576b"
             ],
             [
              0.6666666666666666,
              "#ed7953"
             ],
             [
              0.7777777777777778,
              "#fb9f3a"
             ],
             [
              0.8888888888888888,
              "#fdca26"
             ],
             [
              1,
              "#f0f921"
             ]
            ],
            "type": "surface"
           }
          ],
          "table": [
           {
            "cells": {
             "fill": {
              "color": "#EBF0F8"
             },
             "line": {
              "color": "white"
             }
            },
            "header": {
             "fill": {
              "color": "#C8D4E3"
             },
             "line": {
              "color": "white"
             }
            },
            "type": "table"
           }
          ]
         },
         "layout": {
          "annotationdefaults": {
           "arrowcolor": "#2a3f5f",
           "arrowhead": 0,
           "arrowwidth": 1
          },
          "autotypenumbers": "strict",
          "coloraxis": {
           "colorbar": {
            "outlinewidth": 0,
            "ticks": ""
           }
          },
          "colorscale": {
           "diverging": [
            [
             0,
             "#8e0152"
            ],
            [
             0.1,
             "#c51b7d"
            ],
            [
             0.2,
             "#de77ae"
            ],
            [
             0.3,
             "#f1b6da"
            ],
            [
             0.4,
             "#fde0ef"
            ],
            [
             0.5,
             "#f7f7f7"
            ],
            [
             0.6,
             "#e6f5d0"
            ],
            [
             0.7,
             "#b8e186"
            ],
            [
             0.8,
             "#7fbc41"
            ],
            [
             0.9,
             "#4d9221"
            ],
            [
             1,
             "#276419"
            ]
           ],
           "sequential": [
            [
             0,
             "#0d0887"
            ],
            [
             0.1111111111111111,
             "#46039f"
            ],
            [
             0.2222222222222222,
             "#7201a8"
            ],
            [
             0.3333333333333333,
             "#9c179e"
            ],
            [
             0.4444444444444444,
             "#bd3786"
            ],
            [
             0.5555555555555556,
             "#d8576b"
            ],
            [
             0.6666666666666666,
             "#ed7953"
            ],
            [
             0.7777777777777778,
             "#fb9f3a"
            ],
            [
             0.8888888888888888,
             "#fdca26"
            ],
            [
             1,
             "#f0f921"
            ]
           ],
           "sequentialminus": [
            [
             0,
             "#0d0887"
            ],
            [
             0.1111111111111111,
             "#46039f"
            ],
            [
             0.2222222222222222,
             "#7201a8"
            ],
            [
             0.3333333333333333,
             "#9c179e"
            ],
            [
             0.4444444444444444,
             "#bd3786"
            ],
            [
             0.5555555555555556,
             "#d8576b"
            ],
            [
             0.6666666666666666,
             "#ed7953"
            ],
            [
             0.7777777777777778,
             "#fb9f3a"
            ],
            [
             0.8888888888888888,
             "#fdca26"
            ],
            [
             1,
             "#f0f921"
            ]
           ]
          },
          "colorway": [
           "#636efa",
           "#EF553B",
           "#00cc96",
           "#ab63fa",
           "#FFA15A",
           "#19d3f3",
           "#FF6692",
           "#B6E880",
           "#FF97FF",
           "#FECB52"
          ],
          "font": {
           "color": "#2a3f5f"
          },
          "geo": {
           "bgcolor": "white",
           "lakecolor": "white",
           "landcolor": "#E5ECF6",
           "showlakes": true,
           "showland": true,
           "subunitcolor": "white"
          },
          "hoverlabel": {
           "align": "left"
          },
          "hovermode": "closest",
          "mapbox": {
           "style": "light"
          },
          "paper_bgcolor": "white",
          "plot_bgcolor": "#E5ECF6",
          "polar": {
           "angularaxis": {
            "gridcolor": "white",
            "linecolor": "white",
            "ticks": ""
           },
           "bgcolor": "#E5ECF6",
           "radialaxis": {
            "gridcolor": "white",
            "linecolor": "white",
            "ticks": ""
           }
          },
          "scene": {
           "xaxis": {
            "backgroundcolor": "#E5ECF6",
            "gridcolor": "white",
            "gridwidth": 2,
            "linecolor": "white",
            "showbackground": true,
            "ticks": "",
            "zerolinecolor": "white"
           },
           "yaxis": {
            "backgroundcolor": "#E5ECF6",
            "gridcolor": "white",
            "gridwidth": 2,
            "linecolor": "white",
            "showbackground": true,
            "ticks": "",
            "zerolinecolor": "white"
           },
           "zaxis": {
            "backgroundcolor": "#E5ECF6",
            "gridcolor": "white",
            "gridwidth": 2,
            "linecolor": "white",
            "showbackground": true,
            "ticks": "",
            "zerolinecolor": "white"
           }
          },
          "shapedefaults": {
           "line": {
            "color": "#2a3f5f"
           }
          },
          "ternary": {
           "aaxis": {
            "gridcolor": "white",
            "linecolor": "white",
            "ticks": ""
           },
           "baxis": {
            "gridcolor": "white",
            "linecolor": "white",
            "ticks": ""
           },
           "bgcolor": "#E5ECF6",
           "caxis": {
            "gridcolor": "white",
            "linecolor": "white",
            "ticks": ""
           }
          },
          "title": {
           "x": 0.05
          },
          "xaxis": {
           "automargin": true,
           "gridcolor": "white",
           "linecolor": "white",
           "ticks": "",
           "title": {
            "standoff": 15
           },
           "zerolinecolor": "white",
           "zerolinewidth": 2
          },
          "yaxis": {
           "automargin": true,
           "gridcolor": "white",
           "linecolor": "white",
           "ticks": "",
           "title": {
            "standoff": 15
           },
           "zerolinecolor": "white",
           "zerolinewidth": 2
          }
         }
        },
        "width": 760
       }
      }
     },
     "metadata": {},
     "output_type": "display_data"
    }
   ],
   "source": [
    "import plotly.graph_objects as go\n",
    "\n",
    "tasks_categories = ['MMLU', 'ARC', 'GSM8K', 'HellaSwag', 'TruthfulQA', 'WinoGranade', 'Temporal']\n",
    "\n",
    "llama_data = [40.6, 40.1, 14.7, 40.7, 25.2, 50.2, 62.7]\n",
    "llama_data_text = [46.6, 49.1, 14.7, 58.7, 25.2, 74.2, 70.7]\n",
    "mathllama_data = [29.2, 47.3, 23.5, 46.3, 28.5, 53.3, 68.9]\n",
    "mathllama_data_text = [46.2, 50.3, 24.5, 59.3, 28.5, 74.3, 72.9]\n",
    "sft = [32.7, 42.4, 21.5, 52.5, 28.5, 50.2, 59.9]\n",
    "sft_text = [46.3, 49.4, 21.5, 59.5, 28.5, 74.2, 69.9]\n",
    "timo = [47.2, 53.3, 25.3, 60.8, 31.7, 75.8, 78.3]\n",
    "timo_text = [47.2, 53.3, 25.3, 60.8, 31.7, 75.8, 78.3]\n",
    "\n",
    "fig = go.Figure()\n",
    "\n",
    "fig.add_trace(go.Scatterpolar(\n",
    "      mode='lines+text',\n",
    "      r=[i/j for i,j in zip(llama_data + [llama_data[0]], timo + [timo[0]])],\n",
    "      theta= tasks_categories + [tasks_categories[0]],\n",
    "      fill= 'none',\n",
    "      name= 'LLaMA',\n",
    "      line=dict(color='orange', dash='dot'),\n",
    "      text=llama_data_text,\n",
    "      textposition='middle left',\n",
    "))\n",
    "\n",
    "fig.add_trace(go.Scatterpolar(\n",
    "      mode='lines+text',\n",
    "      r= [i/j for i,j in zip(mathllama_data+[mathllama_data[0]], timo + [timo[0]])],\n",
    "      theta= tasks_categories + [tasks_categories[0]],\n",
    "      fill= 'none',\n",
    "      name= 'MathLLaMA',\n",
    "      line=dict(color='skyblue', dash='dot'),\n",
    "      text=mathllama_data_text,\n",
    "      textposition='middle left',\n",
    "))\n",
    "\n",
    "fig.add_trace(go.Scatterpolar(\n",
    "      mode='lines+text',\n",
    "      r= [i/j for i,j in zip(sft+[sft[0]], timo + [timo[0]])],\n",
    "      theta= tasks_categories + [tasks_categories[0]],\n",
    "      fill= 'none',\n",
    "      name= 'Timo-SFT',\n",
    "      line=dict(color='limegreen', dash='dot'),\n",
    "      text=sft_text,\n",
    "      textposition='middle left',\n",
    "))\n",
    "\n",
    "fig.add_trace(go.Scatterpolar(\n",
    "      mode='lines+text',\n",
    "      r= [i/j for i,j in zip(timo + [timo[0]], timo + [timo[0]])],\n",
    "      theta= tasks_categories + [tasks_categories[0]],\n",
    "      fill= 'none',\n",
    "      name= 'Timo',\n",
    "      line=dict(color='mediumpurple', dash='solid'),\n",
    "      text=timo_text,\n",
    "      textposition='middle left',\n",
    "))\n",
    "\n",
    "\n",
    "fig.update_layout(\n",
    "    polar=dict(\n",
    "        radialaxis=dict(\n",
    "            visible=False,\n",
    "            range=[0.4, 1.05]\n",
    "        ),\n",
    "        angularaxis=dict(\n",
    "            tick0='auto',\n",
    "            tickfont=dict(size=18)  # 设置分类标签的字体大小\n",
    "        )\n",
    "    ),\n",
    "    showlegend=True,\n",
    "    legend=dict(\n",
    "        x=0.88,  # 调整图例的水平位置\n",
    "        y=-0.1,  # 调整图例的垂直位置\n",
    "        bgcolor='rgba(255, 255, 255, 0.6)',  # 设置图例的背景颜色及透明度\n",
    "        bordercolor='rgba(0, 0, 0, 0.2)',  # 设置图例的边框颜色及透明度\n",
    "        borderwidth=2,  # 设置图例的边框宽度\n",
    "        traceorder=\"normal\",  # 控制图例中图例项的顺序\n",
    "        font=dict(  # 设置图例文字的属性\n",
    "            # family=\"Times New Roman\",  # 设置字体\n",
    "            size=18,  # 设置文字大小\n",
    "            color=\"black\"  # 设置文字颜色\n",
    "        ),\n",
    "        itemsizing='trace'  # 设置图例项的大小为常量\n",
    "    ),\n",
    "    height=620,  # 设置画布高度\n",
    "    width=760  # 设置画布宽度\n",
    ")\n",
    "\n",
    "\n",
    "fig.show()\n"
   ]
  },
  {
   "cell_type": "code",
   "execution_count": 16,
   "metadata": {},
   "outputs": [],
   "source": [
    "fig.write_image(\"performance_under_math_tasks.pdf\")"
   ]
  },
  {
   "cell_type": "code",
   "execution_count": null,
   "metadata": {},
   "outputs": [],
   "source": []
  }
 ],
 "metadata": {
  "kernelspec": {
   "display_name": "llm",
   "language": "python",
   "name": "python3"
  },
  "language_info": {
   "codemirror_mode": {
    "name": "ipython",
    "version": 3
   },
   "file_extension": ".py",
   "mimetype": "text/x-python",
   "name": "python",
   "nbconvert_exporter": "python",
   "pygments_lexer": "ipython3",
   "version": "3.10.13"
  }
 },
 "nbformat": 4,
 "nbformat_minor": 2
}
